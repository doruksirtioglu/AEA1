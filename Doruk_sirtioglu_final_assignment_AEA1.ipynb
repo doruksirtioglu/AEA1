{
 "cells": [
  {
   "cell_type": "markdown",
   "metadata": {},
   "source": [
    " # AEA1 - Final Project\n",
    "\n",
    "### Doruk Sirtioglu - 2003898"
   ]
  },
  {
   "cell_type": "markdown",
   "metadata": {},
   "source": [
    "## Introduction\n",
    "\n",
    "In this project, we replicate the the predictive model in Section 2C of the paper **\"Stories of the Twentieth Century for the Twenty First\", by Gourinchas and Obstfield (2011)**. The model uses logistic regression as a workhorse model to predict several types of crises through specific macroeconomic indicators. We use the abridged dataset that is consisted of the publicly available data sources, which are indicated in the paper. "
   ]
  },
  {
   "cell_type": "code",
   "execution_count": 635,
   "metadata": {},
   "outputs": [
    {
     "data": {
      "application/javascript": [
       "$.getScript('https://kmahelona.github.io/ipython_notebook_goodies/ipython_notebook_toc.js')"
      ],
      "text/plain": [
       "<IPython.core.display.Javascript object>"
      ]
     },
     "metadata": {},
     "output_type": "display_data"
    }
   ],
   "source": [
    "%%javascript\n",
    "$.getScript('https://kmahelona.github.io/ipython_notebook_goodies/ipython_notebook_toc.js')"
   ]
  },
  {
   "cell_type": "markdown",
   "metadata": {},
   "source": [
    "<h1 id=\"tocheading\">Table of Contents</h1>\n",
    "<div id=\"toc\"></div>"
   ]
  },
  {
   "cell_type": "markdown",
   "metadata": {},
   "source": [
    "## Import Libraries\n",
    "\n",
    "<a id=\"importlib\"></a>"
   ]
  },
  {
   "cell_type": "code",
   "execution_count": 636,
   "metadata": {
    "scrolled": true
   },
   "outputs": [],
   "source": [
    "import pandas as pd\n",
    "import numpy as np\n",
    "import statsmodels.api as sm\n",
    "import pylab as pl\n",
    "import matplotlib.pyplot as plt\n",
    "from sklearn.model_selection import train_test_split\n",
    "from sklearn.linear_model import LogisticRegression\n",
    "from sklearn import metrics\n",
    "import matplotlib.pyplot as plt\n",
    "import seaborn as sns\n",
    "%matplotlib inline"
   ]
  },
  {
   "cell_type": "markdown",
   "metadata": {},
   "source": [
    "## Insert and define data"
   ]
  },
  {
   "cell_type": "code",
   "execution_count": 637,
   "metadata": {
    "scrolled": true
   },
   "outputs": [
    {
     "data": {
      "text/plain": [
       "<bound method NDFrame.head of       currcrisisvar1  currcrisisvar2  currcrisisvar3  currcrisisvar4  \\\n",
       "0                  0               0               1               0   \n",
       "1                  0               1               0               0   \n",
       "2                  1               0               0               0   \n",
       "3                  0               0               0               0   \n",
       "4                  0               0               0               0   \n",
       "5                  0               0               0               0   \n",
       "6                  0               0               0               1   \n",
       "7                  0               0               1               0   \n",
       "8                  0               1               0               1   \n",
       "9                  1               0               1               0   \n",
       "10                 0               1               0               0   \n",
       "11                 1               0               0               0   \n",
       "12                 0               0               0               0   \n",
       "13                 0               0               0               0   \n",
       "14                 0               0               0               0   \n",
       "15                 0               0               0               0   \n",
       "16                 0               0               0               0   \n",
       "17                 0               0               0               0   \n",
       "18                 0               0               0               0   \n",
       "19                 0               0               0               0   \n",
       "20                 0               0               0               0   \n",
       "21                 0               0               0               0   \n",
       "22                 0               0               0               0   \n",
       "23                 0               0               0               0   \n",
       "24                 0               0               0               0   \n",
       "25                 0               0               0               0   \n",
       "26                 0               0               0               0   \n",
       "27                 0               0               0               0   \n",
       "28                 0               0               0               0   \n",
       "29                 0               0               0               0   \n",
       "...              ...             ...             ...             ...   \n",
       "2972               0               0               0               0   \n",
       "2973               0               0               0               0   \n",
       "2974               0               0               0               0   \n",
       "2975               0               0               0               1   \n",
       "2976               0               0               1               0   \n",
       "2977               0               1               0               0   \n",
       "2978               1               0               0               0   \n",
       "2979               0               0               0               0   \n",
       "2980               0               0               0               0   \n",
       "2981               0               0               0               1   \n",
       "2982               0               0               1               0   \n",
       "2983               0               1               0               0   \n",
       "2984               1               0               0               0   \n",
       "2985               0               0               0               0   \n",
       "2986               0               0               0               1   \n",
       "2987               0               0               1               0   \n",
       "2988               0               1               0               0   \n",
       "2989               1               0               0               0   \n",
       "2990               0               0               0               0   \n",
       "2991               0               0               0               0   \n",
       "2992               0               0               0               0   \n",
       "2993               0               0               0               0   \n",
       "2994               0               0               0               0   \n",
       "2995               0               0               0               1   \n",
       "2996               0               0               1               0   \n",
       "2997               0               1               0               0   \n",
       "2998               1               0               0               0   \n",
       "2999               0               0               0               0   \n",
       "3000               0               0               0               0   \n",
       "3001               0               0               0               0   \n",
       "\n",
       "      currcrisisvar5  currcrisisvarL0  currcrisisvarL1  currcrisisvarL2  \\\n",
       "0                  0                0                0                0   \n",
       "1                  0                0                0                0   \n",
       "2                  0                0                0                0   \n",
       "3                  0                1                0                0   \n",
       "4                  0                0                1                0   \n",
       "5                  1                0                0                1   \n",
       "6                  0                0                0                0   \n",
       "7                  1                0                0                0   \n",
       "8                  0                0                0                0   \n",
       "9                  0                0                0                0   \n",
       "10                 0                1                0                0   \n",
       "11                 0                0                1                0   \n",
       "12                 0                1                0                1   \n",
       "13                 0                0                1                0   \n",
       "14                 0                0                0                1   \n",
       "15                 0                0                0                0   \n",
       "16                 0                0                0                0   \n",
       "17                 0                0                0                0   \n",
       "18                 0                0                0                0   \n",
       "19                 0                0                0                0   \n",
       "20                 0                0                0                0   \n",
       "21                 0                0                0                0   \n",
       "22                 0                0                0                0   \n",
       "23                 0                0                0                0   \n",
       "24                 0                0                0                0   \n",
       "25                 0                0                0                0   \n",
       "26                 0                0                0                0   \n",
       "27                 0                0                0                0   \n",
       "28                 0                0                0                0   \n",
       "29                 0                0                0                0   \n",
       "...              ...              ...              ...              ...   \n",
       "2972               0                0                0                0   \n",
       "2973               0                0                0                0   \n",
       "2974               1                0                0                0   \n",
       "2975               0                0                0                0   \n",
       "2976               0                0                0                0   \n",
       "2977               0                0                0                0   \n",
       "2978               0                0                0                0   \n",
       "2979               0                1                0                0   \n",
       "2980               1                0                1                0   \n",
       "2981               0                0                0                1   \n",
       "2982               0                0                0                0   \n",
       "2983               0                0                0                0   \n",
       "2984               0                0                0                0   \n",
       "2985               1                1                0                0   \n",
       "2986               0                0                1                0   \n",
       "2987               0                0                0                1   \n",
       "2988               0                0                0                0   \n",
       "2989               0                0                0                0   \n",
       "2990               0                1                0                0   \n",
       "2991               0                0                1                0   \n",
       "2992               0                0                0                1   \n",
       "2993               0                0                0                0   \n",
       "2994               1                0                0                0   \n",
       "2995               0                0                0                0   \n",
       "2996               0                0                0                0   \n",
       "2997               0                0                0                0   \n",
       "2998               0                0                0                0   \n",
       "2999               0                1                0                0   \n",
       "3000               0                0                1                0   \n",
       "3001               0                0                0                1   \n",
       "\n",
       "      currcrisisvarL3  currcrisisvarL4     ...       defaultvarL1  \\\n",
       "0                   0                0     ...                  0   \n",
       "1                   0                0     ...                  0   \n",
       "2                   0                0     ...                  0   \n",
       "3                   0                0     ...                  0   \n",
       "4                   0                0     ...                  0   \n",
       "5                   0                0     ...                  0   \n",
       "6                   1                0     ...                  0   \n",
       "7                   0                1     ...                  0   \n",
       "8                   0                0     ...                  0   \n",
       "9                   0                0     ...                  0   \n",
       "10                  0                0     ...                  0   \n",
       "11                  0                0     ...                  0   \n",
       "12                  0                0     ...                  0   \n",
       "13                  1                0     ...                  0   \n",
       "14                  0                1     ...                  0   \n",
       "15                  1                0     ...                  0   \n",
       "16                  0                1     ...                  0   \n",
       "17                  0                0     ...                  0   \n",
       "18                  0                0     ...                  0   \n",
       "19                  0                0     ...                  0   \n",
       "20                  0                0     ...                  0   \n",
       "21                  0                0     ...                  0   \n",
       "22                  0                0     ...                  0   \n",
       "23                  0                0     ...                  0   \n",
       "24                  0                0     ...                  0   \n",
       "25                  0                0     ...                  0   \n",
       "26                  0                0     ...                  0   \n",
       "27                  0                0     ...                  0   \n",
       "28                  0                0     ...                  0   \n",
       "29                  0                0     ...                  0   \n",
       "...               ...              ...     ...                ...   \n",
       "2972                1                0     ...                  0   \n",
       "2973                0                1     ...                  0   \n",
       "2974                0                0     ...                  1   \n",
       "2975                0                0     ...                  0   \n",
       "2976                0                0     ...                  0   \n",
       "2977                0                0     ...                  0   \n",
       "2978                0                0     ...                  0   \n",
       "2979                0                0     ...                  0   \n",
       "2980                0                0     ...                  0   \n",
       "2981                0                0     ...                  0   \n",
       "2982                1                0     ...                  0   \n",
       "2983                0                1     ...                  0   \n",
       "2984                0                0     ...                  0   \n",
       "2985                0                0     ...                  0   \n",
       "2986                0                0     ...                  0   \n",
       "2987                0                0     ...                  0   \n",
       "2988                1                0     ...                  0   \n",
       "2989                0                1     ...                  0   \n",
       "2990                0                0     ...                  0   \n",
       "2991                0                0     ...                  0   \n",
       "2992                0                0     ...                  0   \n",
       "2993                1                0     ...                  1   \n",
       "2994                0                1     ...                  0   \n",
       "2995                0                0     ...                  0   \n",
       "2996                0                0     ...                  0   \n",
       "2997                0                0     ...                  0   \n",
       "2998                0                0     ...                  0   \n",
       "2999                0                0     ...                  0   \n",
       "3000                0                0     ...                  0   \n",
       "3001                0                0     ...                  0   \n",
       "\n",
       "     defaultvarL2 defaultvarL3  defaultvarL4  defaultvarL5  defaultvar1  \\\n",
       "0               0            0             0             0            0   \n",
       "1               0            0             0             0            0   \n",
       "2               0            0             0             0            0   \n",
       "3               0            0             0             0            0   \n",
       "4               0            0             0             0            0   \n",
       "5               0            0             0             0            0   \n",
       "6               0            0             0             0            0   \n",
       "7               0            0             0             0            0   \n",
       "8               0            0             0             0            0   \n",
       "9               0            0             0             0            0   \n",
       "10              0            0             0             0            0   \n",
       "11              0            0             0             0            0   \n",
       "12              0            0             0             0            0   \n",
       "13              0            0             0             0            0   \n",
       "14              0            0             0             0            0   \n",
       "15              0            0             0             0            0   \n",
       "16              0            0             0             0            0   \n",
       "17              0            0             0             0            0   \n",
       "18              0            0             0             0            0   \n",
       "19              0            0             0             0            0   \n",
       "20              0            0             0             0            0   \n",
       "21              0            0             0             0            0   \n",
       "22              0            0             0             0            0   \n",
       "23              0            0             0             0            0   \n",
       "24              0            0             0             0            0   \n",
       "25              0            0             0             0            0   \n",
       "26              0            0             0             0            0   \n",
       "27              0            0             0             0            0   \n",
       "28              0            0             0             0            0   \n",
       "29              0            0             0             0            0   \n",
       "...           ...          ...           ...           ...          ...   \n",
       "2972            0            1             0             0            1   \n",
       "2973            0            0             1             0            0   \n",
       "2974            0            0             0             1            0   \n",
       "2975            1            0             0             0            0   \n",
       "2976            0            1             0             0            0   \n",
       "2977            0            0             1             0            0   \n",
       "2978            0            0             0             1            0   \n",
       "2979            0            0             0             0            0   \n",
       "2980            0            0             0             0            0   \n",
       "2981            0            0             0             0            0   \n",
       "2982            0            0             0             0            0   \n",
       "2983            0            0             0             0            0   \n",
       "2984            0            0             0             0            0   \n",
       "2985            0            0             0             0            0   \n",
       "2986            0            0             0             0            0   \n",
       "2987            0            0             0             0            0   \n",
       "2988            0            0             0             0            0   \n",
       "2989            0            0             0             0            0   \n",
       "2990            0            0             0             0            0   \n",
       "2991            0            0             0             0            1   \n",
       "2992            0            0             0             0            0   \n",
       "2993            0            0             0             0            0   \n",
       "2994            1            0             0             0            0   \n",
       "2995            0            1             0             0            0   \n",
       "2996            0            0             1             0            0   \n",
       "2997            0            0             0             1            0   \n",
       "2998            0            0             0             0            0   \n",
       "2999            0            0             0             0            0   \n",
       "3000            0            0             0             0            0   \n",
       "3001            0            0             0             0            0   \n",
       "\n",
       "      defaultvar2 defaultvar3  defaultvar4  defaultvar5  \n",
       "0               0           0            0            0  \n",
       "1               0           0            0            0  \n",
       "2               0           0            0            0  \n",
       "3               0           0            0            0  \n",
       "4               0           0            0            0  \n",
       "5               0           0            0            0  \n",
       "6               0           0            0            0  \n",
       "7               0           0            0            0  \n",
       "8               0           0            0            0  \n",
       "9               0           0            0            0  \n",
       "10              0           0            0            0  \n",
       "11              0           0            0            0  \n",
       "12              0           0            0            0  \n",
       "13              0           0            0            0  \n",
       "14              0           0            0            0  \n",
       "15              0           0            0            0  \n",
       "16              0           0            0            0  \n",
       "17              0           0            0            0  \n",
       "18              0           0            0            0  \n",
       "19              0           0            0            0  \n",
       "20              0           0            0            0  \n",
       "21              0           0            0            0  \n",
       "22              0           0            0            0  \n",
       "23              0           0            0            0  \n",
       "24              0           0            0            0  \n",
       "25              0           0            0            0  \n",
       "26              0           0            0            0  \n",
       "27              0           0            0            0  \n",
       "28              0           0            0            0  \n",
       "29              0           0            0            0  \n",
       "...           ...         ...          ...          ...  \n",
       "2972            0           0            0            0  \n",
       "2973            0           0            0            0  \n",
       "2974            0           0            0            0  \n",
       "2975            0           0            0            0  \n",
       "2976            0           0            0            0  \n",
       "2977            0           0            0            0  \n",
       "2978            0           0            0            0  \n",
       "2979            0           0            0            0  \n",
       "2980            0           0            0            0  \n",
       "2981            0           0            0            0  \n",
       "2982            0           0            0            0  \n",
       "2983            0           0            0            0  \n",
       "2984            0           0            0            0  \n",
       "2985            0           0            0            0  \n",
       "2986            0           0            0            0  \n",
       "2987            0           0            0            1  \n",
       "2988            0           0            1            0  \n",
       "2989            0           1            0            0  \n",
       "2990            1           0            0            0  \n",
       "2991            0           0            0            0  \n",
       "2992            0           0            0            0  \n",
       "2993            0           0            0            0  \n",
       "2994            0           0            0            0  \n",
       "2995            0           0            0            0  \n",
       "2996            0           0            0            0  \n",
       "2997            0           0            0            0  \n",
       "2998            0           0            0            0  \n",
       "2999            0           0            0            0  \n",
       "3000            0           0            0            0  \n",
       "3001            0           0            0            0  \n",
       "\n",
       "[3002 rows x 65 columns]>"
      ]
     },
     "execution_count": 637,
     "metadata": {},
     "output_type": "execute_result"
    }
   ],
   "source": [
    "df = pd.read_csv(\"Python_Data_Final.csv\")\n",
    "df.head"
   ]
  },
  {
   "cell_type": "code",
   "execution_count": 638,
   "metadata": {
    "scrolled": true
   },
   "outputs": [
    {
     "name": "stdout",
     "output_type": "stream",
     "text": [
      "Dataset consists of \u001b[1m3002\u001b[0m panel data observations from \u001b[1m79 countries \u001b[0m from \u001b[1m1973 until \u001b[1m2010\u001b[0m. The countries are dichotomized as advanced or emerging, indicated with the binary column 'high'. By running the analyses on two separate groups, Gourinchas and Obstfield aims to compare features anddrivers in advanced and developing economies. The authors restrict their scopeto three types of crisis, which are: currency crises (where the exchange rate falls to speculative pressure), banking crises (where banks struggle to stay solvent in a systemic trend), and government default crises (also referred to as sovereign debt crises). They include the global financial crisis of 2008 as the fourth crisis type since it has affected both types of economies globally.\n"
     ]
    }
   ],
   "source": [
    "number_of_obs = df['country'].count()\n",
    "count_country = df['country'].nunique()\n",
    "max_date = df['date'].max()\n",
    "min_date = df['date'].min()\n",
    "\n",
    "print(\"Dataset consists of \" + '\\033[1m' + str(number_of_obs) + '\\033[0m' + \" panel data \\\n",
    "observations from \"+ '\\033[1m' + str(count_country) + \" countries \" + '\\033[0m' + \" from \" + '\\033[1m' + str(min_date) \\\n",
    "+ \" until \" + '\\033[1m' + str(max_date) + '\\033[0m'+\". The countries are dichotomized as advanced \\\n",
    "or emerging, indicated with the binary column 'high'. By running the analyses \\\n",
    "on two separate groups, Gourinchas and Obstfield aims to compare features and\\\n",
    "drivers in advanced and developing economies. The authors restrict their scope\\\n",
    "to three types of crisis, which are: currency crises (where the exchange rate \\\n",
    "falls to speculative pressure), banking crises (where banks struggle to stay \\\n",
    "solvent in a systemic trend), and government default crises (also referred to \\\n",
    "as sovereign debt crises). They include the global financial crisis of 2008 as \\\n",
    "the fourth crisis type since it has affected both types of economies globally.\")\n"
   ]
  },
  {
   "cell_type": "markdown",
   "metadata": {},
   "source": [
    "## Data Cleaning\n",
    "\n",
    "<a id=\"datacleaning\"></a>"
   ]
  },
  {
   "cell_type": "code",
   "execution_count": 639,
   "metadata": {
    "scrolled": true
   },
   "outputs": [],
   "source": [
    "df.rename(columns=df.iloc[0])\n",
    "\n",
    "df.rename(\n",
    "  columns={\n",
    "    \"variable1\" : 'OutGap',\n",
    "    \"variable2\" : 'Credit/Gdp',\n",
    "    \"variable3\" : \"ExtLeverage\",\n",
    "    \"variable4\" : \"CA/Gdp\", \n",
    "    \"variable5\" : \"Reserves/Gdp\",\n",
    "    \"variable6\" : \"ExchangeRate\",\n",
    "    \"variable7\" : \"ExtShortTDebt/Gdp\",\n",
    "    \"variable8\" : \"PubDebt/Gdp\", \n",
    "    \"variable9\" : \"Inflation\",\n",
    "    \"variable10\": \"RealInterest\"\n",
    "  },\n",
    "  inplace=True\n",
    ")"
   ]
  },
  {
   "cell_type": "markdown",
   "metadata": {
    "scrolled": true
   },
   "source": [
    "df = df.dropna(subset=['OutGap'])\n",
    "df = df.dropna(subset=['Credit/Gdp'])\n",
    "df = df.dropna(subset=['CA/Gdp'])\n",
    "df = df.dropna(subset=['Reserves/Gdp'])\n",
    "df = df.dropna(subset=['ExchangeRate'])\n",
    "df = df.dropna(subset=['ExtShortTDebt/Gdp'])\n",
    "df = df.dropna(subset=['PubDebt/Gdp'])                             "
   ]
  },
  {
   "cell_type": "code",
   "execution_count": 640,
   "metadata": {
    "scrolled": true
   },
   "outputs": [],
   "source": [
    "#Ordering columns according to their relevance\n",
    "df_clean = df[['high', 'country', 'date', 'crisis', 'OutGap', 'Credit/Gdp', 'ExtLeverage', 'CA/Gdp','Reserves/Gdp',\\\n",
    "         'ExchangeRate', 'ExtShortTDebt/Gdp', 'PubDebt/Gdp','Inflation','RealInterest',\\\n",
    "         'isocode', 'imfcode','observation', \n",
    "         'groupid','id', 'names', 'currcrisisvar1', 'currcrisisvar2', 'currcrisisvar3',\\\n",
    "         'currcrisisvar4','currcrisisvar5', 'currcrisisvarL0', 'currcrisisvarL1',\\\n",
    "         'currcrisisvarL2', 'currcrisisvarL3', 'currcrisisvarL4', 'currcrisisvarL5',\\\n",
    "        'crisisd2008', 'crisis2008var5','crisis2008var4',\\\n",
    "       'crisis2008var3', 'crisis2008var2', 'crisis2008var1', 'crisis2008varL0',\\\n",
    "       'crisis2008varL1', 'crisis2008varL2', 'crisis2008varL3',\\\n",
    "       'crisis2008varL4', 'crisis2008varL5', 'bankvar1', 'bankvar2',\\\n",
    "       'bankvar3', 'bankvar4', 'bankvar5', 'bankvarL0', 'bankvarL1',\\\n",
    "       'bankvarL2', 'bankvarL3', 'bankvarL4', 'bankvarL5', 'defaultvarL0',\\\n",
    "       'defaultvarL1', 'defaultvarL2', 'defaultvarL3', 'defaultvarL4',\\\n",
    "       'defaultvarL5', 'defaultvar1', 'defaultvar2', 'defaultvar3',\\\n",
    "       'defaultvar4', 'defaultvar5']]"
   ]
  },
  {
   "cell_type": "markdown",
   "metadata": {},
   "source": [
    "This study replicates the estimation model of the paper. The authors segregate the countries as advanced and emerging market economies since the have different market dynamics and marcoeconomic drivers. In out study, we limit the scope to emerging market economies for the sake of not repeating the same procedure two times. However, we will take the research one step further by utilizing the capabilities of Python, and extend the model by running a machine learning algorithm to explore whether there is a contagion between currency and banking crises."
   ]
  },
  {
   "cell_type": "markdown",
   "metadata": {},
   "source": [
    "# Estimating Crises\n",
    "\n",
    "<a id=\"replication\"></a>"
   ]
  },
  {
   "cell_type": "code",
   "execution_count": 641,
   "metadata": {
    "scrolled": true
   },
   "outputs": [],
   "source": [
    "#Create dataframe with the emerging market economies (high=0)\n",
    "\n",
    "#Emerging Market Economies:\n",
    "df_eme = df_clean[df_clean['high'] == 0]\n",
    "df_adv = df_clean[df_clean['high'] == 1]"
   ]
  },
  {
   "cell_type": "markdown",
   "metadata": {},
   "source": [
    "## Sovereign Debt Crises:\n",
    "\n",
    "<a id=\"sovdebt\"></a>"
   ]
  },
  {
   "cell_type": "code",
   "execution_count": 642,
   "metadata": {
    "scrolled": true
   },
   "outputs": [
    {
     "name": "stdout",
     "output_type": "stream",
     "text": [
      "Optimization terminated successfully.\n",
      "         Current function value: 0.209782\n",
      "         Iterations 8\n",
      "                           Logit Regression Results                           \n",
      "==============================================================================\n",
      "Dep. Variable:            defaultvar1   No. Observations:                  851\n",
      "Model:                          Logit   Df Residuals:                      844\n",
      "Method:                           MLE   Df Model:                            6\n",
      "Date:                Thu, 17 Jan 2019   Pseudo R-squ.:                0.002386\n",
      "Time:                        22:18:44   Log-Likelihood:                -178.52\n",
      "converged:                       True   LL-Null:                       -178.95\n",
      "                                        LLR p-value:                    0.9905\n",
      "=====================================================================================\n",
      "                        coef    std err          z      P>|z|      [0.025      0.975]\n",
      "-------------------------------------------------------------------------------------\n",
      "OutGap                0.0172      0.033      0.522      0.602      -0.047       0.082\n",
      "Credit/Gdp            0.0421      0.012      3.475      0.001       0.018       0.066\n",
      "CA/Gdp                0.1189      0.033      3.656      0.000       0.055       0.183\n",
      "Reserves/Gdp         -0.2430      0.033     -7.296      0.000      -0.308      -0.178\n",
      "ExchangeRate         -0.0099      0.006     -1.755      0.079      -0.021       0.001\n",
      "ExtShortTDebt/Gdp    -0.0019      0.023     -0.082      0.934      -0.048       0.044\n",
      "PubDebt/Gdp          -0.0177      0.006     -3.217      0.001      -0.028      -0.007\n",
      "=====================================================================================\n"
     ]
    }
   ],
   "source": [
    "#Currency crisis prediction for Emerging Market Economies in the next year\n",
    "regressor_vars = ['OutGap', 'Credit/Gdp', 'CA/Gdp', 'Reserves/Gdp', \\\n",
    "                'ExchangeRate', 'ExtShortTDebt/Gdp', 'PubDebt/Gdp']\n",
    "\n",
    "logit_sov = sm.Logit(df_eme['defaultvar1'], df_eme[regressor_vars], missing='drop')\n",
    "\n",
    "result_sov = logit_sov.fit()\n",
    "\n",
    "print(result_sov.summary())"
   ]
  },
  {
   "cell_type": "code",
   "execution_count": 643,
   "metadata": {
    "scrolled": true
   },
   "outputs": [
    {
     "name": "stdout",
     "output_type": "stream",
     "text": [
      "        Logit Marginal Effects       \n",
      "=====================================\n",
      "Dep. Variable:            defaultvar1\n",
      "Method:                          dydx\n",
      "At:                              mean\n",
      "=====================================================================================\n",
      "                       dy/dx    std err          z      P>|z|      [0.025      0.975]\n",
      "-------------------------------------------------------------------------------------\n",
      "OutGap                0.0004      0.001      0.524      0.600      -0.001       0.002\n",
      "Credit/Gdp            0.0011      0.000      3.076      0.002       0.000       0.002\n",
      "CA/Gdp                0.0031      0.001      3.193      0.001       0.001       0.005\n",
      "Reserves/Gdp         -0.0063      0.001     -6.306      0.000      -0.008      -0.004\n",
      "ExchangeRate         -0.0003      0.000     -1.756      0.079      -0.001    2.98e-05\n",
      "ExtShortTDebt/Gdp -5.031e-05      0.001     -0.082      0.935      -0.001       0.001\n",
      "PubDebt/Gdp          -0.0005      0.000     -2.587      0.010      -0.001      -0.000\n",
      "=====================================================================================\n"
     ]
    }
   ],
   "source": [
    "margeff_sov = result_sov.get_margeff(at='mean', method='dydx')\n",
    "print(margeff_sov.summary())"
   ]
  },
  {
   "cell_type": "markdown",
   "metadata": {},
   "source": [
    "## Banking Crises:\n",
    "\n",
    "<a id=\"banking\"></a>"
   ]
  },
  {
   "cell_type": "code",
   "execution_count": 644,
   "metadata": {
    "scrolled": true
   },
   "outputs": [
    {
     "name": "stdout",
     "output_type": "stream",
     "text": [
      "Optimization terminated successfully.\n",
      "         Current function value: 0.186008\n",
      "         Iterations 8\n",
      "                           Logit Regression Results                           \n",
      "==============================================================================\n",
      "Dep. Variable:               bankvar1   No. Observations:                  851\n",
      "Model:                          Logit   Df Residuals:                      844\n",
      "Method:                           MLE   Df Model:                            6\n",
      "Date:                Thu, 17 Jan 2019   Pseudo R-squ.:               0.0001932\n",
      "Time:                        22:18:44   Log-Likelihood:                -158.29\n",
      "converged:                       True   LL-Null:                       -158.32\n",
      "                                        LLR p-value:                     1.000\n",
      "=====================================================================================\n",
      "                        coef    std err          z      P>|z|      [0.025      0.975]\n",
      "-------------------------------------------------------------------------------------\n",
      "OutGap                0.0769      0.037      2.090      0.037       0.005       0.149\n",
      "Credit/Gdp            0.0614      0.013      4.705      0.000       0.036       0.087\n",
      "CA/Gdp                0.0718      0.036      1.969      0.049       0.000       0.143\n",
      "Reserves/Gdp         -0.1839      0.033     -5.595      0.000      -0.248      -0.119\n",
      "ExchangeRate         -0.0168      0.006     -2.792      0.005      -0.029      -0.005\n",
      "ExtShortTDebt/Gdp    -0.0440      0.031     -1.425      0.154      -0.105       0.017\n",
      "PubDebt/Gdp          -0.0296      0.006     -4.765      0.000      -0.042      -0.017\n",
      "=====================================================================================\n"
     ]
    }
   ],
   "source": [
    "#Currency crisis prediction for Emerging Market Economies in the next year\n",
    "regressor_vars = ['OutGap', 'Credit/Gdp', 'CA/Gdp', 'Reserves/Gdp', \\\n",
    "                'ExchangeRate', 'ExtShortTDebt/Gdp', 'PubDebt/Gdp']\n",
    "\n",
    "logit_bank = sm.Logit(df_eme['bankvar1'], df_eme[regressor_vars], missing='drop')\n",
    "\n",
    "result_bank = logit_bank.fit()\n",
    "\n",
    "print(result_bank.summary())"
   ]
  },
  {
   "cell_type": "code",
   "execution_count": 645,
   "metadata": {
    "scrolled": true
   },
   "outputs": [
    {
     "name": "stdout",
     "output_type": "stream",
     "text": [
      "        Logit Marginal Effects       \n",
      "=====================================\n",
      "Dep. Variable:               bankvar1\n",
      "Method:                          dydx\n",
      "At:                              mean\n",
      "=====================================================================================\n",
      "                       dy/dx    std err          z      P>|z|      [0.025      0.975]\n",
      "-------------------------------------------------------------------------------------\n",
      "OutGap                0.0016      0.001      2.047      0.041    6.98e-05       0.003\n",
      "Credit/Gdp            0.0013      0.000      3.786      0.000       0.001       0.002\n",
      "CA/Gdp                0.0015      0.001      1.846      0.065   -9.45e-05       0.003\n",
      "Reserves/Gdp         -0.0039      0.001     -4.749      0.000      -0.006      -0.002\n",
      "ExchangeRate         -0.0004      0.000     -2.679      0.007      -0.001   -9.68e-05\n",
      "ExtShortTDebt/Gdp    -0.0009      0.001     -1.322      0.186      -0.002       0.000\n",
      "PubDebt/Gdp          -0.0006      0.000     -3.530      0.000      -0.001      -0.000\n",
      "=====================================================================================\n"
     ]
    }
   ],
   "source": [
    "mareff_bank = result_bank.get_margeff(at='mean', method='dydx')\n",
    "print(mareff_bank.summary())"
   ]
  },
  {
   "cell_type": "markdown",
   "metadata": {},
   "source": [
    "## Currency Crises\n",
    "\n",
    "<a id=\"currency\"></a>"
   ]
  },
  {
   "cell_type": "code",
   "execution_count": 646,
   "metadata": {
    "scrolled": true
   },
   "outputs": [
    {
     "name": "stdout",
     "output_type": "stream",
     "text": [
      "Optimization terminated successfully.\n",
      "         Current function value: 0.233619\n",
      "         Iterations 8\n",
      "                           Logit Regression Results                           \n",
      "==============================================================================\n",
      "Dep. Variable:         currcrisisvar1   No. Observations:                  851\n",
      "Model:                          Logit   Df Residuals:                      844\n",
      "Method:                           MLE   Df Model:                            6\n",
      "Date:                Thu, 17 Jan 2019   Pseudo R-squ.:                 0.04939\n",
      "Time:                        22:18:44   Log-Likelihood:                -198.81\n",
      "converged:                       True   LL-Null:                       -209.14\n",
      "                                        LLR p-value:                  0.002113\n",
      "=====================================================================================\n",
      "                        coef    std err          z      P>|z|      [0.025      0.975]\n",
      "-------------------------------------------------------------------------------------\n",
      "OutGap                0.0895      0.033      2.708      0.007       0.025       0.154\n",
      "Credit/Gdp            0.0258      0.012      2.162      0.031       0.002       0.049\n",
      "CA/Gdp                0.0121      0.034      0.356      0.722      -0.054       0.078\n",
      "Reserves/Gdp         -0.1900      0.029     -6.483      0.000      -0.247      -0.133\n",
      "ExchangeRate         -0.0104      0.005     -1.937      0.053      -0.021       0.000\n",
      "ExtShortTDebt/Gdp    -0.0105      0.024     -0.440      0.660      -0.057       0.036\n",
      "PubDebt/Gdp          -0.0260      0.005     -4.731      0.000      -0.037      -0.015\n",
      "=====================================================================================\n"
     ]
    }
   ],
   "source": [
    "#Currency crisis prediction for Emerging Market Economies in the next year\n",
    "regressor_vars = ['OutGap', 'Credit/Gdp', 'CA/Gdp', 'Reserves/Gdp', \\\n",
    "                'ExchangeRate', 'ExtShortTDebt/Gdp', 'PubDebt/Gdp']\n",
    "\n",
    "logit_curr = sm.Logit(df_eme['currcrisisvar1'], df_eme[regressor_vars], missing='drop')\n",
    "\n",
    "result_currency = logit_curr.fit()\n",
    "\n",
    "print(result_currency.summary())"
   ]
  },
  {
   "cell_type": "code",
   "execution_count": 647,
   "metadata": {
    "scrolled": true
   },
   "outputs": [
    {
     "name": "stdout",
     "output_type": "stream",
     "text": [
      "        Logit Marginal Effects       \n",
      "=====================================\n",
      "Dep. Variable:         currcrisisvar1\n",
      "Method:                          dydx\n",
      "At:                              mean\n",
      "=====================================================================================\n",
      "                       dy/dx    std err          z      P>|z|      [0.025      0.975]\n",
      "-------------------------------------------------------------------------------------\n",
      "OutGap                0.0030      0.001      2.617      0.009       0.001       0.005\n",
      "Credit/Gdp            0.0009      0.000      2.084      0.037    5.09e-05       0.002\n",
      "CA/Gdp                0.0004      0.001      0.353      0.724      -0.002       0.003\n",
      "Reserves/Gdp         -0.0063      0.001     -6.191      0.000      -0.008      -0.004\n",
      "ExchangeRate         -0.0003      0.000     -1.928      0.054      -0.001    5.74e-06\n",
      "ExtShortTDebt/Gdp    -0.0003      0.001     -0.433      0.665      -0.002       0.001\n",
      "PubDebt/Gdp          -0.0009      0.000     -3.765      0.000      -0.001      -0.000\n",
      "=====================================================================================\n"
     ]
    }
   ],
   "source": [
    "margeff_currency = result_currency.get_margeff(at='mean', method='dydx')\n",
    "print(margeff_currency.summary())"
   ]
  },
  {
   "cell_type": "markdown",
   "metadata": {},
   "source": [
    "## Interpretation of the Results\n",
    "\n",
    "<a id=\"interpretation\"></a>\n",
    "\n",
    "We run three regressions to estimate the effects of given macroeconomic indicators on the occurence of soveregin debt, banking and currency crises. To have sound interpretation of the results, we look at the marginal effects of the significant variables, which we observe them at the mean values for each variable, following the authors. We obtain similar marginal results with them. Across all types of crises, four variables play a significant role: \n",
    "+ Ratio of domestic credit to output,\n",
    "+ The ratio of official reserves, \n",
    "+ The real exchange rate, \n",
    "+ The ratio of public debt to output.\n",
    "\n",
    "Each significant variable is interpreted below."
   ]
  },
  {
   "cell_type": "markdown",
   "metadata": {},
   "source": [
    "### Ratio of domestic credit to output: \n",
    "\n",
    "An increase in domestic credit above trend significantly increases the chances of a currency crisis within next year year (at 5% level). The marginal effect of an increase in domestic credit is largest on banking crises, with 0.13%, meaning one standard deviation change increases the probability of a currency crisis in the next year by 0.13%, at the mean value.\n",
    "\n",
    "### The ratio of official reserves:\n",
    "\n",
    "Having higher foreign exchange ratate reserves reduces the probability of a crises in the following year, where the effect if largest for soveregin debt and currency crises with 0.63%, one percentage point increase in reserve to output ratio decreases the the probability of a debt or currency crises by 0.63% for the next year.\n",
    "\n",
    "### The real exchange rate:\n",
    "\n",
    "A one-standard deviation depreciation of the real exchange rate reduces the probability of sovereign default by 0.03 percent, of banking crisis by 0.04 percent, and of currency crisis by 0.03 percent.\n",
    "\n",
    "\n",
    "### The ratio of public debt to output:\n",
    "\n",
    "Surprisingly, higher levels of public debt predict a decreased chance of \n",
    "banking and currency crises, decreasing the chances by 0.06 percent and 0.05 percent, respectively, at the mean values. However, higher public debt levels indicate a higher risk of sovereign default for the following year."
   ]
  },
  {
   "cell_type": "markdown",
   "metadata": {},
   "source": [
    "# Visualization\n",
    "\n",
    "<a id=\"visualization\"></a>"
   ]
  },
  {
   "cell_type": "markdown",
   "metadata": {},
   "source": [
    "We replicate the visuals similar to Figures 1 to 6 in the paper. For the sake of conciseness, we visualize the predictions only for the significant variables for emerging market economies. "
   ]
  },
  {
   "cell_type": "code",
   "execution_count": 648,
   "metadata": {},
   "outputs": [],
   "source": [
    "#Estimation the significant covariates relative to tranquil times (based on Equation 1 in the paper)\n",
    "\n",
    "predictors = ['defaultvarL5', 'defaultvarL4', 'defaultvarL3', 'defaultvarL2','defaultvarL1', \n",
    "'defaultvarL0','defaultvar1', 'defaultvar2', 'defaultvar3','defaultvar4', 'defaultvar5', \n",
    "'bankvarL5', 'bankvarL4', 'bankvarL3', 'bankvarL2', 'bankvarL1', 'bankvarL0', 'bankvar1', 'bankvar2',\n",
    "'bankvar3', 'bankvar4', 'bankvar5',    \n",
    "'currcrisisvarL5','currcrisisvarL4','currcrisisvarL3', 'currcrisisvarL2', 'currcrisisvarL1',\n",
    "'currcrisisvarL0', 'currcrisisvar1', 'currcrisisvar2', 'currcrisisvar3', 'currcrisisvar4',\n",
    "'currcrisisvar5', \n",
    "'crisis2008varL5', 'crisis2008varL4', 'crisis2008varL3', 'crisis2008varL2', \n",
    "'crisis2008varL1', 'crisis2008varL0', 'crisis2008var1', 'crisis2008var2',\n",
    "'crisis2008var3', 'crisis2008var4', 'crisis2008var5']"
   ]
  },
  {
   "cell_type": "code",
   "execution_count": 649,
   "metadata": {
    "scrolled": true
   },
   "outputs": [],
   "source": [
    "#Credit/Gdp estimation\n",
    "CreditGdp_Est = sm.OLS(df_eme['Credit/Gdp'], df_eme[predictors], missing='drop')\n",
    "res_CreditGdp_Est = CreditGdp_Est.fit()\n",
    "CreditGdp = res_CreditGdp_Est.params\n",
    "CreditGdp_Eme = np.array(res_CreditGdp_Est.conf_int(alpha=0.05, cols=None))\n",
    "#print(res_OutGap_Est.summary())\n",
    "\n",
    "#Reserves/Gdp estimation\n",
    "Reserves_Est = sm.OLS(df_eme['Reserves/Gdp'], df_eme[predictors], missing='drop')\n",
    "res_Reserves_Est = Reserves_Est.fit()\n",
    "Reserves = res_Reserves_Est.params\n",
    "Reserves_Eme = np.array(res_Reserves_Est.conf_int(alpha=0.05, cols=None))\n",
    "\n",
    "#Exchange Rate estimation\n",
    "Exchange_Est = sm.OLS(df_eme['ExchangeRate'], df_eme[predictors], missing='drop')\n",
    "res_Exchange_Est = Exchange_Est.fit()\n",
    "Exchange = res_Exchange_Est.params\n",
    "Exchange_Eme = np.array(res_Exchange_Est.conf_int(alpha=0.05, cols=None))\n",
    "\n",
    "#Output Gap estimation\n",
    "PubDebt_Est = sm.OLS(df_eme['PubDebt/Gdp'], df_eme[predictors], missing='drop')\n",
    "res_PubDebt_Est = PubDebt_Est.fit()\n",
    "PubDebt = res_PubDebt_Est.params\n",
    "PubDebt_Eme = np.array(res_PubDebt_Est.conf_int(alpha=0.05, cols=None))"
   ]
  },
  {
   "cell_type": "code",
   "execution_count": 650,
   "metadata": {},
   "outputs": [],
   "source": [
    "Eventtime = [-5, -4, -3, -2, -1, 0, 1, 2, 3, 4, 5,\n",
    "             -5, -4, -3, -2, -1, 0, 1, 2, 3, 4, 5,\n",
    "             -5, -4, -3, -2, -1, 0, 1, 2, 3, 4, 5,\n",
    "             -5, -4, -3, -2, -1, 0, 1, 2, 3, 4, 5] \n",
    "\n",
    "Crisis = ['Default', 'Default', 'Default', 'Default', 'Default',\n",
    "          'Default', 'Default', 'Default', 'Default', 'Default', 'Default',\n",
    "          'Banking', 'Banking', 'Banking', 'Banking', 'Banking',\n",
    "          'Banking', 'Banking', 'Banking', 'Banking', 'Banking', 'Banking',\n",
    "          'Currency', 'Currency', 'Currency', 'Currency', 'Currency',\n",
    "          'Currency', 'Currency', 'Currency', 'Currency', 'Currency', 'Currency',\n",
    "          '2008', '2008', '2008', '2008', '2008',\n",
    "          '2008', '2008', '2008', '2008', '2008', '2008']"
   ]
  },
  {
   "cell_type": "code",
   "execution_count": 651,
   "metadata": {
    "scrolled": false
   },
   "outputs": [],
   "source": [
    "zipped = list(zip(predictors, Crisis, Eventtime, \n",
    "                  CreditGdp, CreditGdp_Eme[:,0], CreditGdp_Eme[:,1],\n",
    "                  Reserves, Reserves_Eme[:,0], Reserves_Eme[:,1],\n",
    "                  Exchange, Exchange_Eme[:,0], Exchange_Eme[:,1],\n",
    "                  PubDebt, PubDebt_Eme[:,0], PubDebt_Eme[:,1],            \n",
    "                  ))\n",
    "\n",
    "df_data = pd.DataFrame(zipped)\n",
    "df_data.columns = ['Column','Crisis', 'Eventtime', \n",
    "                   'CreditGdp','CreditGdp_L', 'CreditGdp_U',\n",
    "                   'Reserves', 'Reserves_L', 'Reserves_U',\n",
    "                   'Exchange', 'Exchange_L', 'Exchange_U',   \n",
    "                   'PubDebt', 'PubDebt_L', 'PubDebt_U']\n",
    "df_data = df_data.replace(to_replace='defaultvar*', value='default', regex=True)\n",
    "df_data.replace(to_replace='bankvar*', value='bank', regex=True)\n",
    "df_data = df_data.replace(to_replace='currcrisisvar', value='currency', regex=True)\n",
    "df_data = df_data.replace(to_replace='crisis2008var', value='2008', regex=True)\n",
    "df_data = df_data.drop(columns=['Column'])"
   ]
  },
  {
   "cell_type": "code",
   "execution_count": 652,
   "metadata": {},
   "outputs": [],
   "source": [
    "#Define Plot Variables\n",
    "x_main = df_data['Eventtime'].loc[df_data['Crisis'] == 'Banking']\n",
    "#CreditGdp Plots\n",
    "#EM, Default\n",
    "y_main_def_cr = df_data['CreditGdp'].loc[df_data['Crisis'] == 'Default']\n",
    "y_lower_def_cr = df_data['CreditGdp_L'].loc[df_data['Crisis'] == 'Default']\n",
    "y_upper_def_cr = df_data['CreditGdp_U'].loc[df_data['Crisis'] == 'Default']\n",
    "#EM, Banking\n",
    "y_main_bank_cr = df_data['CreditGdp'].loc[df_data['Crisis'] == 'Banking']\n",
    "y_lower_bank_cr = df_data['CreditGdp_L'].loc[df_data['Crisis'] == 'Banking']\n",
    "y_upper_bank_cr = df_data['CreditGdp_U'].loc[df_data['Crisis'] == 'Banking']\n",
    "#EM, Currency\n",
    "y_main_curr_cr = df_data['CreditGdp'].loc[df_data['Crisis'] == 'Currency']\n",
    "y_lower_curr_cr = df_data['CreditGdp_L'].loc[df_data['Crisis'] == 'Currency']\n",
    "y_upper_curr_cr = df_data['CreditGdp_U'].loc[df_data['Crisis'] == 'Currency']\n",
    "#EM, 2008\n",
    "y_main_2008_cr = df_data['CreditGdp'].loc[df_data['Crisis'] == '2008']\n",
    "y_lower_2008_cr = df_data['CreditGdp_L'].loc[df_data['Crisis'] == '2008']\n",
    "y_upper_2008_cr = df_data['CreditGdp_U'].loc[df_data['Crisis'] == '2008']\n",
    "\n",
    "#Reserves Plots\n",
    "#EM, Default\n",
    "y_main_def_res = df_data['Reserves'].loc[df_data['Crisis'] == 'Default']\n",
    "y_lower_def_res = df_data['Reserves_L'].loc[df_data['Crisis'] == 'Default']\n",
    "y_upper_def_res = df_data['Reserves_U'].loc[df_data['Crisis'] == 'Default']\n",
    "#EM, Banking\n",
    "y_main_bank_res = df_data['Reserves'].loc[df_data['Crisis'] == 'Banking']\n",
    "y_lower_bank_res = df_data['Reserves_L'].loc[df_data['Crisis'] == 'Banking']\n",
    "y_upper_bank_res = df_data['Reserves_U'].loc[df_data['Crisis'] == 'Banking']\n",
    "#EM, Currency\n",
    "y_main_curr_res = df_data['Reserves'].loc[df_data['Crisis'] == 'Currency']\n",
    "y_lower_curr_res = df_data['Reserves_L'].loc[df_data['Crisis'] == 'Currency']\n",
    "y_upper_curr_res = df_data['Reserves_U'].loc[df_data['Crisis'] == 'Currency']\n",
    "#EM, 2008\n",
    "y_main_2008_res = df_data['Reserves'].loc[df_data['Crisis'] == '2008']\n",
    "y_lower_2008_res = df_data['Reserves_L'].loc[df_data['Crisis'] == '2008']\n",
    "y_upper_2008_res = df_data['Reserves_U'].loc[df_data['Crisis'] == '2008']\n",
    "\n",
    "#Exchange Plots\n",
    "#EM, Default\n",
    "y_main_def_exc = df_data['Exchange'].loc[df_data['Crisis'] == 'Default']\n",
    "y_lower_def_exc = df_data['Exchange_L'].loc[df_data['Crisis'] == 'Default']\n",
    "y_upper_def_exc = df_data['Exchange_U'].loc[df_data['Crisis'] == 'Default']\n",
    "#EM, Banking\n",
    "y_main_bank_exc = df_data['Exchange'].loc[df_data['Crisis'] == 'Banking']\n",
    "y_lower_bank_exc = df_data['Exchange_L'].loc[df_data['Crisis'] == 'Banking']\n",
    "y_upper_bank_exc = df_data['Exchange_U'].loc[df_data['Crisis'] == 'Banking']\n",
    "#EM, Currency\n",
    "y_main_curr_exc = df_data['Exchange'].loc[df_data['Crisis'] == 'Currency']\n",
    "y_lower_curr_exc = df_data['Exchange_L'].loc[df_data['Crisis'] == 'Currency']\n",
    "y_upper_curr_exc = df_data['Exchange_U'].loc[df_data['Crisis'] == 'Currency']\n",
    "#EM, 2008\n",
    "y_main_2008_exc = df_data['Exchange'].loc[df_data['Crisis'] == '2008']\n",
    "y_lower_2008_exc = df_data['Exchange_L'].loc[df_data['Crisis'] == '2008']\n",
    "y_upper_2008_exc = df_data['Exchange_U'].loc[df_data['Crisis'] == '2008']\n",
    "\n",
    "#PubDebt Plots\n",
    "#EM, Default\n",
    "y_main_def_pub = df_data['PubDebt'].loc[df_data['Crisis'] == 'Default']\n",
    "y_lower_def_pub = df_data['PubDebt_L'].loc[df_data['Crisis'] == 'Default']\n",
    "y_upper_def_pub = df_data['PubDebt_U'].loc[df_data['Crisis'] == 'Default']\n",
    "#EM, Banking\n",
    "y_main_bank_pub = df_data['PubDebt'].loc[df_data['Crisis'] == 'Banking']\n",
    "y_lower_bank_pub = df_data['PubDebt_L'].loc[df_data['Crisis'] == 'Banking']\n",
    "y_upper_bank_pub = df_data['PubDebt_U'].loc[df_data['Crisis'] == 'Banking']\n",
    "#EM, Currency\n",
    "y_main_curr_pub = df_data['PubDebt'].loc[df_data['Crisis'] == 'Currency']\n",
    "y_lower_curr_pub = df_data['PubDebt_L'].loc[df_data['Crisis'] == 'Currency']\n",
    "y_upper_curr_pub = df_data['PubDebt_U'].loc[df_data['Crisis'] == 'Currency']\n",
    "#EM, 2008\n",
    "y_main_2008_pub = df_data['PubDebt'].loc[df_data['Crisis'] == '2008']\n",
    "y_lower_2008_pub = df_data['PubDebt_L'].loc[df_data['Crisis'] == '2008']\n",
    "y_upper_2008_pub = df_data['PubDebt_U'].loc[df_data['Crisis'] == '2008']"
   ]
  },
  {
   "cell_type": "markdown",
   "metadata": {},
   "source": [
    "## Figures"
   ]
  },
  {
   "cell_type": "code",
   "execution_count": 653,
   "metadata": {},
   "outputs": [
    {
     "data": {
      "image/png": "[encoded data removed]",
      "text/plain": [
       "<matplotlib.figure.Figure at 0x7fc4b8a49080>"
      ]
     },
     "metadata": {},
     "output_type": "display_data"
    }
   ],
   "source": [
    "f, axarr = plt.subplots(nrows = 4, ncols = 4, figsize = (20, 20))\n",
    "\n",
    "#CreditGdp Plots\n",
    "#EM, Default\n",
    "ax1 = plt.subplot(4, 4, 1)\n",
    "plt.axhline(y=0, color='black')\n",
    "plt.plot(x_main, y_main_def_cr)\n",
    "plt.scatter(x_main, y_lower_def_cr, color='green')\n",
    "plt.scatter(x_main, y_upper_def_cr, color='red')\n",
    "plt.title('EM, Default')\n",
    "plt.axvline(x=0, color='black', linestyle='--')\n",
    "plt.axhline(y=0, color='black')\n",
    "#EM, Banking\n",
    "plt.subplot(4, 4, 2)\n",
    "plt.plot(x_main, y_main_bank_cr)\n",
    "plt.scatter(x_main, y_lower_bank_cr, color='green')\n",
    "plt.scatter(x_main, y_upper_bank_cr, color='red')\n",
    "plt.title('EM, Banking')\n",
    "plt.axvline(x=0, color='black', linestyle='--')\n",
    "plt.axhline(y=0, color='black')\n",
    "#EM, Currency\n",
    "plt.subplot(4, 4, 3)\n",
    "plt.plot(x_main, y_main_curr_cr)\n",
    "plt.scatter(x_main, y_lower_curr_cr, color='green')\n",
    "plt.scatter(x_main, y_upper_curr_cr, color='red')\n",
    "plt.title('EM, Currency')\n",
    "plt.axvline(x=0, color='black', linestyle='--')\n",
    "#EM, 2008\n",
    "plt.subplot(4, 4, 4)\n",
    "plt.plot(x_main, y_main_2008_cr)\n",
    "plt.scatter(x_main, y_lower_2008_cr, color='green')\n",
    "plt.scatter(x_main, y_upper_2008_cr, color='red')\n",
    "plt.title('EM, 2008')\n",
    "plt.axvline(x=0, color='black', linestyle='--')\n",
    "plt.axhline(y=0, color='black')\n",
    "\n",
    "\n",
    "#Reserves Plots\n",
    "#EM, Default\n",
    "plt.subplot(4, 4, 5)\n",
    "plt.plot(x_main, y_main_def_res)\n",
    "plt.scatter(x_main, y_lower_def_res, color='green')\n",
    "plt.scatter(x_main, y_upper_def_res, color='red')\n",
    "plt.title('EM, Default')\n",
    "plt.axvline(x=0, color='black', linestyle='--')\n",
    "plt.axhline(y=0, color='black')\n",
    "#EM, Banking\n",
    "plt.subplot(4, 4, 6)\n",
    "plt.plot(x_main, y_main_bank_res)\n",
    "plt.scatter(x_main, y_lower_bank_res, color='green')\n",
    "plt.scatter(x_main, y_upper_bank_res, color='red')\n",
    "plt.title('EM, Banking')\n",
    "plt.axvline(x=0, color='black', linestyle='--')\n",
    "plt.axhline(y=0, color='black')\n",
    "#EM, Currency\n",
    "plt.subplot(4, 4, 7)\n",
    "plt.plot(x_main, y_main_curr_res)\n",
    "plt.scatter(x_main, y_lower_curr_res, color='green')\n",
    "plt.scatter(x_main, y_upper_curr_res, color='red')\n",
    "plt.title('EM, Currency')\n",
    "plt.axvline(x=0, color='black', linestyle='--')\n",
    "plt.axhline(y=0, color='black')\n",
    "#EM, 2008\n",
    "plt.subplot(4, 4, 8)\n",
    "plt.plot(x_main, y_main_2008_res)\n",
    "plt.scatter(x_main, y_lower_2008_res, color='green')\n",
    "plt.scatter(x_main, y_upper_2008_res, color='red')\n",
    "plt.title('EM, 2008')\n",
    "plt.axvline(x=0, color='black', linestyle='--')\n",
    "plt.axhline(y=0, color='black')\n",
    "\n",
    "#Exchange Plots\n",
    "#EM, Default\n",
    "plt.subplot(4, 4, 9)\n",
    "plt.plot(x_main, y_main_def_exc)\n",
    "plt.scatter(x_main, y_lower_def_exc, color='green')\n",
    "plt.scatter(x_main, y_upper_def_exc, color='red')\n",
    "plt.title('EM, Default')\n",
    "plt.axvline(x=0, color='black', linestyle='--')\n",
    "plt.axhline(y=0, color='black')\n",
    "#EM, Banking\n",
    "plt.subplot(4, 4, 10)\n",
    "plt.plot(x_main, y_main_bank_exc)\n",
    "plt.scatter(x_main, y_lower_bank_exc, color='green')\n",
    "plt.scatter(x_main, y_upper_bank_exc, color='red')\n",
    "plt.title('EM, Banking')\n",
    "plt.axvline(x=0, color='black', linestyle='--')\n",
    "plt.axhline(y=0, color='black')\n",
    "#EM, Currency\n",
    "plt.subplot(4, 4, 11)\n",
    "plt.plot(x_main, y_main_curr_exc)\n",
    "plt.scatter(x_main, y_lower_curr_exc, color='green')\n",
    "plt.scatter(x_main, y_upper_curr_exc, color='red')\n",
    "plt.title('EM, Currency')\n",
    "plt.axvline(x=0, color='black', linestyle='--')\n",
    "plt.axhline(y=0, color='black')\n",
    "#EM, 2008\n",
    "plt.subplot(4, 4, 12)\n",
    "plt.plot(x_main, y_main_2008_exc)\n",
    "plt.scatter(x_main, y_lower_2008_exc, color='green')\n",
    "plt.scatter(x_main, y_upper_2008_exc, color='red')\n",
    "plt.title('EM, 2008')\n",
    "plt.axvline(x=0, color='black', linestyle='--')\n",
    "plt.axhline(y=0, color='black')\n",
    "\n",
    "\n",
    "#PublicDebt Plots\n",
    "#EM, Default\n",
    "plt.subplot(4, 4, 13)\n",
    "plt.plot(x_main, y_main_def_pub)\n",
    "plt.scatter(x_main, y_lower_def_pub, color='green')\n",
    "plt.scatter(x_main, y_upper_def_pub, color='red')\n",
    "plt.title('EM, Default')\n",
    "plt.axvline(x=0, color='black', linestyle='--')\n",
    "plt.axhline(y=0, color='black')\n",
    "#EM, Banking\n",
    "plt.subplot(4, 4, 14)\n",
    "plt.plot(x_main, y_main_bank_pub)\n",
    "plt.scatter(x_main, y_lower_bank_pub, color='green')\n",
    "plt.scatter(x_main, y_upper_bank_pub, color='red')\n",
    "plt.title('EM, Banking')\n",
    "plt.axvline(x=0, color='black', linestyle='--')\n",
    "plt.axhline(y=0, color='black')\n",
    "#EM, Currency\n",
    "plt.subplot(4, 4, 15)\n",
    "plt.plot(x_main, y_main_curr_pub)\n",
    "plt.scatter(x_main, y_lower_curr_pub, color='green')\n",
    "plt.scatter(x_main, y_upper_curr_pub, color='red')\n",
    "plt.title('EM, Currency')\n",
    "plt.axvline(x=0, color='black', linestyle='--')\n",
    "plt.axhline(y=0, color='black')\n",
    "#EM, 2008\n",
    "plt.subplot(4, 4, 16)\n",
    "plt.plot(x_main, y_main_2008_pub)\n",
    "plt.scatter(x_main, y_lower_2008_pub, color='green')\n",
    "plt.scatter(x_main, y_upper_2008_pub, color='red')\n",
    "plt.title('EM, 2008')\n",
    "plt.axvline(x=0, color='black', linestyle='--')\n",
    "plt.axhline(y=0, color='black')\n",
    "\n",
    "plt.show()"
   ]
  },
  {
   "cell_type": "markdown",
   "metadata": {},
   "source": [
    "The estimates of conditional means of each variable, relative to ‘tranquil times’ are reported on the vertical axis. The horizontal axes represents the number of years before (negative sign) and after a crisis of a given type (in the different columns).\n",
    "\n",
    "Estimates in each row are for (i) Ratio of domestic credit to output, (ii) The ratio of official reserves, (iii) The real exchange rate and (iv) The ratio of public debt to output, respectively from top to bottom. The dots denote a 95% confidence interval for each conditional mean."
   ]
  },
  {
   "cell_type": "markdown",
   "metadata": {},
   "source": [
    "# Extended Model\n",
    "\n",
    "<a id=\"extended\"></a>"
   ]
  },
  {
   "cell_type": "markdown",
   "metadata": {},
   "source": [
    "Gourinchas and Obstfeld mentions the relationship between banking and currency crises, such that banking crises tend to begin ahead of currency crises. Starting from this point, we build our model to predict a currency crisis by using whether there has been a banking crisis in the last three years in addition to the statistically significant variables for currency crisis estimation model. We start by creating a new variable which indicates a banking crisis in the previous three years."
   ]
  },
  {
   "cell_type": "code",
   "execution_count": 654,
   "metadata": {
    "scrolled": true
   },
   "outputs": [
    {
     "name": "stderr",
     "output_type": "stream",
     "text": [
      "/usr/local/lib/python3.5/dist-packages/ipykernel_launcher.py:3: SettingWithCopyWarning: \n",
      "A value is trying to be set on a copy of a slice from a DataFrame.\n",
      "Try using .loc[row_indexer,col_indexer] = value instead\n",
      "\n",
      "See the caveats in the documentation: http://pandas.pydata.org/pandas-docs/stable/indexing.html#indexing-view-versus-copy\n",
      "  This is separate from the ipykernel package so we can avoid doing imports until\n",
      "/usr/local/lib/python3.5/dist-packages/pandas/core/indexing.py:543: SettingWithCopyWarning: \n",
      "A value is trying to be set on a copy of a slice from a DataFrame.\n",
      "Try using .loc[row_indexer,col_indexer] = value instead\n",
      "\n",
      "See the caveats in the documentation: http://pandas.pydata.org/pandas-docs/stable/indexing.html#indexing-view-versus-copy\n",
      "  self.obj[item] = s\n",
      "/usr/local/lib/python3.5/dist-packages/ipykernel_launcher.py:10: SettingWithCopyWarning: \n",
      "A value is trying to be set on a copy of a slice from a DataFrame.\n",
      "Try using .loc[row_indexer,col_indexer] = value instead\n",
      "\n",
      "See the caveats in the documentation: http://pandas.pydata.org/pandas-docs/stable/indexing.html#indexing-view-versus-copy\n",
      "  # Remove the CWD from sys.path while we load stuff.\n"
     ]
    }
   ],
   "source": [
    "#Banking Crisis Dummies\n",
    "df_eme['banklast3'] = (\n",
    "    df_eme.bankvarL0 + df_eme.bankvarL1 + df_eme.bankvarL2 + df_eme.bankvarL3)\n",
    "\n",
    "df_eme.loc[df_eme.banklast3 != 0, 'banklast3'] = '1'\n",
    "df_eme.loc[df_eme.banklast3 == 0, 'banklast3'] = '0'\n",
    "\n",
    "# Currency crisis occurence in the upcoming three years\n",
    "df_eme['target'] = (\n",
    "    df_eme.currcrisisvar3 + df_eme.currcrisisvar2 + df_eme.currcrisisvar1)\n",
    "\n",
    "\n",
    "df_eme = df_eme.dropna(subset=['Credit/Gdp'])\n",
    "df_eme = df_eme.dropna(subset=['CA/Gdp'])\n",
    "df_eme = df_eme.dropna(subset=['Reserves/Gdp'])\n",
    "df_eme = df_eme.dropna(subset=['ExchangeRate'])\n",
    "df_eme = df_eme.dropna(subset=['PubDebt/Gdp'])"
   ]
  },
  {
   "cell_type": "markdown",
   "metadata": {},
   "source": [
    "We calibrate the model by using train-test split. We include the banklast3 variable and the five variables which were statistically significant for currency crises in our logistic regression model in the first section as feauture columns. We split our data between train and test with a 0.8 to 0.2 ratio and fit the model accordingly."
   ]
  },
  {
   "cell_type": "code",
   "execution_count": 655,
   "metadata": {
    "scrolled": true
   },
   "outputs": [],
   "source": [
    "#split dataset in features and target variable\n",
    "feature_cols = ['Credit/Gdp', 'CA/Gdp', 'Reserves/Gdp', \\\n",
    "                'ExchangeRate', 'PubDebt/Gdp', 'banklast3']\n",
    "\n",
    "x = df_eme[feature_cols] #Features\n",
    "y = df_eme.target #Target\n",
    "\n",
    "# Split x and y into training and testing sets\n",
    "x_train,x_test,y_train,y_test=train_test_split(x,y,test_size=0.20,random_state=0)\n",
    "\n",
    "# Fit the model with data\n",
    "logreg = LogisticRegression()\n",
    "logreg.fit(x_train,y_train)\n",
    "\n",
    "# Predict\n",
    "y_pred=logreg.predict(x_test)"
   ]
  },
  {
   "cell_type": "code",
   "execution_count": 656,
   "metadata": {
    "scrolled": true
   },
   "outputs": [
    {
     "name": "stdout",
     "output_type": "stream",
     "text": [
      "[('Credit/Gdp', 0.05043301392487006), ('CA/Gdp', -0.025151391700408293), ('Reserves/Gdp', -0.0920013371278995), ('ExchangeRate', -0.03669195305933695), ('PubDebt/Gdp', -0.002561193931391628), ('banklast3', -0.9876566271983804)]\n"
     ]
    }
   ],
   "source": [
    "# Create lists\n",
    "column_labels = x.columns.tolist()\n",
    "coef = logreg.coef_.squeeze().tolist()\n",
    "\n",
    "# Zip together\n",
    "labels_coef = list(zip(column_labels, coef))\n",
    "print(labels_coef)"
   ]
  },
  {
   "cell_type": "markdown",
   "metadata": {},
   "source": [
    "## Model Evaluation\n",
    "\n",
    "<a id=\"model_evaluation\"></a>"
   ]
  },
  {
   "cell_type": "markdown",
   "metadata": {},
   "source": [
    "We evaluate the performance of the model with the following metrics."
   ]
  },
  {
   "cell_type": "code",
   "execution_count": 657,
   "metadata": {
    "scrolled": true
   },
   "outputs": [
    {
     "name": "stdout",
     "output_type": "stream",
     "text": [
      "The accuracy of the model is: 0.81.\n",
      "The precision of the model is: 0.67.\n",
      "The recall of the model is: 0.1.\n"
     ]
    }
   ],
   "source": [
    "Accuracy = metrics.accuracy_score(y_test, y_pred)\n",
    "Precision = metrics.precision_score(y_test, y_pred)\n",
    "Recall = metrics.recall_score(y_test, y_pred)\n",
    "\n",
    "print(\"The accuracy of the model is: \" + str(round(Accuracy, 2)) + \".\")\n",
    "print(\"The precision of the model is: \" + str(round(Precision, 2)) + \".\")\n",
    "print(\"The recall of the model is: \" + str(round(Recall, 2)) + \".\")"
   ]
  },
  {
   "cell_type": "markdown",
   "metadata": {},
   "source": [
    "### Consufion Matrix"
   ]
  },
  {
   "cell_type": "markdown",
   "metadata": {},
   "source": [
    "Next, we check the confusion matrix of the model:"
   ]
  },
  {
   "cell_type": "code",
   "execution_count": 658,
   "metadata": {
    "scrolled": true
   },
   "outputs": [
    {
     "data": {
      "text/plain": [
       "<matplotlib.text.Text at 0x7fc4b8b52390>"
      ]
     },
     "execution_count": 658,
     "metadata": {},
     "output_type": "execute_result"
    },
    {
     "data": {
      "image/png": "[encoded data removed]",
      "text/plain": [
       "<matplotlib.figure.Figure at 0x7fc4badd09b0>"
      ]
     },
     "metadata": {},
     "output_type": "display_data"
    }
   ],
   "source": [
    "cnf_matrix = metrics.confusion_matrix(y_test, y_pred)\n",
    "cnf_matrix\n",
    "\n",
    "class_names=[0,1] # name  of classes\n",
    "fig, ax = plt.subplots()\n",
    "tick_marks = np.arange(len(class_names))\n",
    "plt.xticks(tick_marks, class_names)\n",
    "plt.yticks(tick_marks, class_names)\n",
    "# create heatmap\n",
    "sns.heatmap(pd.DataFrame(cnf_matrix), annot=True, cmap=\"YlGnBu\" ,fmt='g')\n",
    "ax.xaxis.set_label_position(\"top\")\n",
    "plt.tight_layout()\n",
    "plt.title('Confusion matrix', y=1.1)\n",
    "plt.ylabel('Actual')\n",
    "plt.xlabel('Predicted')"
   ]
  },
  {
   "cell_type": "markdown",
   "metadata": {},
   "source": [
    "### ROC Curve"
   ]
  },
  {
   "cell_type": "code",
   "execution_count": 659,
   "metadata": {
    "scrolled": true
   },
   "outputs": [
    {
     "data": {
      "image/png": "[encoded data removed]",
      "text/plain": [
       "<matplotlib.figure.Figure at 0x7fc4b8f8bdd8>"
      ]
     },
     "metadata": {},
     "output_type": "display_data"
    }
   ],
   "source": [
    "y_pred_proba = logreg.predict_proba(x_test)[::,1]\n",
    "fpr, tpr, _ = metrics.roc_curve(y_test,  y_pred_proba)\n",
    "auc = metrics.roc_auc_score(y_test, y_pred_proba)\n",
    "plt.plot(fpr,tpr,label=\"data 1, auc=\"+str(auc))\n",
    "plt.legend(loc=4)\n",
    "plt.title('ROC Curve')\n",
    "plt.ylabel('True Positive Rate')\n",
    "plt.xlabel('False Positive Rate')\n",
    "plt.show()"
   ]
  },
  {
   "cell_type": "markdown",
   "metadata": {},
   "source": [
    "ROC graph shows a plausible degree of curve, however confusion matrix presents that the model predicted four of the crises in the upcoming three years correctly, while could not predict 37 of them. "
   ]
  },
  {
   "cell_type": "markdown",
   "metadata": {},
   "source": [
    "# Conclusions\n",
    "\n",
    "<a id=\"conclusions\"></a>"
   ]
  },
  {
   "cell_type": "markdown",
   "metadata": {},
   "source": [
    "In this study, we replicated the Gourinchas and Obstfield (2011) paper, limited to the emerging market eceonomies. We used the covariates that the authors have used and obtained similar results with them. \n",
    "In the second part, we extended the study by developing a predictive analysis. However, model evaluation showed that our model did not predict any of the 11 crises. This shows that Gourinchas and Obstfield study is successful as a descriptive model but fails as a normative model. The low performing of the model can be due to relatively low occurance of the crises, hence difficult to predict only with the given indicators.\n",
    "A future study can be done by expanding the parameters or using different criteria for feature selection into the model. We included banking crises as an additional parameter to estimate currency crises but found no significant effect for prediction. Further studies may also test other varieties of two-crises interaction with in different time windows."
   ]
  },
  {
   "cell_type": "markdown",
   "metadata": {},
   "source": [
    "# References\n",
    "\n",
    "<a id=\"references\"></a>\n",
    "\n",
    "    Gourinchas, P., & Obstfeld, M. (2012). Stories of the twentieth century for the twenty-first. American Economic Journal: Macroeconomics, 4(1), 226-265. doi:10.1257/mac.4.1.226"
   ]
  }
 ],
 "metadata": {
  "kernelspec": {
   "display_name": "Python 3",
   "language": "python",
   "name": "python3"
  },
  "language_info": {
   "codemirror_mode": {
    "name": "ipython",
    "version": 3
   },
   "file_extension": ".py",
   "mimetype": "text/x-python",
   "name": "python",
   "nbconvert_exporter": "python",
   "pygments_lexer": "ipython3",
   "version": "3.5.3"
  }
 },
 "nbformat": 4,
 "nbformat_minor": 2
}
